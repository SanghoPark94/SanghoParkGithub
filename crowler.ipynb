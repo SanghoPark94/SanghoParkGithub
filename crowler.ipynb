{
  "nbformat": 4,
  "nbformat_minor": 0,
  "metadata": {
    "colab": {
      "name": "crowler.ipynb",
      "provenance": []
    },
    "kernelspec": {
      "name": "python3",
      "display_name": "Python 3"
    },
    "language_info": {
      "name": "python"
    }
  },
  "cells": [
    {
      "cell_type": "code",
      "metadata": {
        "colab": {
          "base_uri": "https://localhost:8080/"
        },
        "id": "Xt_2EvBAQVn8",
        "outputId": "c9373fd6-03ad-47b4-b019-b21175c3731e"
      },
      "source": [
        "from google.colab import drive\n",
        "drive.mount('/content/drive')"
      ],
      "execution_count": 1,
      "outputs": [
        {
          "output_type": "stream",
          "text": [
            "Mounted at /content/drive\n"
          ],
          "name": "stdout"
        }
      ]
    },
    {
      "cell_type": "code",
      "metadata": {
        "colab": {
          "base_uri": "https://localhost:8080/"
        },
        "id": "qudJsFr9QXc0",
        "outputId": "5da3ca1d-54fe-4c3c-a68c-8a7deb6f443f"
      },
      "source": [
        "pip install beautifulsoup4"
      ],
      "execution_count": 2,
      "outputs": [
        {
          "output_type": "stream",
          "text": [
            "Requirement already satisfied: beautifulsoup4 in /usr/local/lib/python3.7/dist-packages (4.6.3)\n"
          ],
          "name": "stdout"
        }
      ]
    },
    {
      "cell_type": "code",
      "metadata": {
        "id": "Lca24XyGQXmF"
      },
      "source": [
        "from urllib.request import urlopen\n",
        "from bs4 import BeautifulSoup\n",
        "import openpyxl\n",
        "import urllib"
      ],
      "execution_count": 14,
      "outputs": []
    },
    {
      "cell_type": "code",
      "metadata": {
        "id": "RPDx0OsRQhDr"
      },
      "source": [
        "res= urlopen(\"http://www.esckorea.org/board/books?page=2&searchQuery=\")\n",
        "soup = BeautifulSoup(html, \"html.parser\")"
      ],
      "execution_count": 9,
      "outputs": []
    },
    {
      "cell_type": "code",
      "metadata": {
        "id": "_VCiSGeJQhHp"
      },
      "source": [
        "data = soup.find_all('td', 'tl')\n",
        "for item in data:\n",
        "    num += 1\n",
        "    excel_sheet.append([num, item.get_text()])"
      ],
      "execution_count": 10,
      "outputs": []
    },
    {
      "cell_type": "code",
      "metadata": {
        "id": "5L5DiNbkQhLC"
      },
      "source": [
        "excel_file = openpyxl.Workbook()\n",
        "excel_sheet = excel_file.active\n",
        "excel_sheet.column_dimensions['B'].width = 100"
      ],
      "execution_count": 13,
      "outputs": []
    },
    {
      "cell_type": "code",
      "metadata": {
        "id": "5c9IdTH_SJcf"
      },
      "source": [
        "cell_A1 = excel_sheet['A1']\n",
        "cell_A1.alignment = openpyxl.styles.Alignment(horizontal=\"center\")\n",
        "\n",
        "cell_B1 = excel_sheet['B1']\n",
        "cell_B1.alignment = openpyxl.styles.Alignment(horizontal=\"center\")"
      ],
      "execution_count": 15,
      "outputs": []
    },
    {
      "cell_type": "code",
      "metadata": {
        "id": "pMjlXiP5SRn6"
      },
      "source": [
        "excel_file.save('school.xlsx')\n",
        "excel_file.close()"
      ],
      "execution_count": 16,
      "outputs": []
    },
    {
      "cell_type": "code",
      "metadata": {
        "id": "d7cxLIqYSUBy"
      },
      "source": [
        ""
      ],
      "execution_count": null,
      "outputs": []
    },
    {
      "cell_type": "markdown",
      "metadata": {
        "id": "yQIbK2M7SVKM"
      },
      "source": [
        "# 새 섹션"
      ]
    }
  ]
}